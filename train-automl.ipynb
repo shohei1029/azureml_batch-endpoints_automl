{
 "cells": [
  {
   "cell_type": "markdown",
   "metadata": {},
   "source": [
    "\n"
   ]
  },
  {
   "cell_type": "code",
   "execution_count": null,
   "metadata": {},
   "outputs": [],
   "source": [
    "import logging\n",
    "\n",
    "from matplotlib import pyplot as plt\n",
    "import pandas as pd\n",
    "import os\n",
    "\n",
    "import azureml.core\n",
    "from azureml.core.experiment import Experiment\n",
    "from azureml.core.workspace import Workspace\n",
    "from azureml.core.dataset import Dataset\n",
    "from azureml.train.automl import AutoMLConfig\n",
    "\n",
    "print(\"# [SDK Check]\")\n",
    "print(\"SDK version:\", azureml.core.VERSION)\n",
    "print(\"*\"*60)\n",
    "\n",
    "print(\"# [WS Check]\")\n",
    "ws = Workspace.from_config()\n",
    "ws_key = ['WS Name', 'RG', 'Region', 'Subscription']\n",
    "ws_val = [ws.name, ws.resource_group, ws.location, ws.subscription_id]\n",
    "for k,v in zip(ws_key, ws_val):\n",
    "    print(f'{k}: {v}')\n",
    "print(\"*\"*60)\n",
    "\n",
    "print(\"# [Get DS]\")\n",
    "# Get the default datastore\n",
    "ds = ws.get_default_datastore()\n",
    "ds_key = ['DS Name', 'DS Type', 'Storage Account Name', 'BLOB Contaner Name']\n",
    "ds_val = [ds.name, ds.datastore_type, ds.account_name, ds.container_name]\n",
    "for k,v in zip(ds_key, ds_val):\n",
    "    print(f'{k}: {v}')\n",
    "print(\"*\"*60)"
   ]
  },
  {
   "cell_type": "code",
   "execution_count": null,
   "metadata": {},
   "outputs": [],
   "source": [
    "# 計算環境\n",
    "from azureml.core.compute import ComputeTarget, AmlCompute\n",
    "from azureml.core.compute_target import ComputeTargetException\n",
    "\n",
    "compute_name = \"cpu-clusters\"\n",
    "\n",
    "if compute_name not in ws.compute_targets: # WSに存在しなければ新規作成\n",
    "    compute_config = AmlCompute.provisioning_configuration(vm_size = \"Standard_F4S_V2\", \n",
    "                                                           max_nodes=4, \n",
    "                                                           idle_seconds_before_scaledown = 300\n",
    "                                                           )\n",
    "\n",
    "    compute_target = ComputeTarget.create(ws, compute_name, compute_config)\n",
    "    compute_target.wait_for_completion(show_output=True)\n",
    "compute_target = ComputeTarget(workspace=ws, name=compute_name)"
   ]
  },
  {
   "cell_type": "code",
   "execution_count": null,
   "metadata": {},
   "outputs": [],
   "source": [
    "# データセット\n",
    "from  azureml.exceptions import UserErrorException\n",
    "\n",
    "try:\n",
    "    dataset = Dataset.get_by_name(ws, name='titanic_train')\n",
    "except UserErrorException as e: # もし存在しない場合 ToDo: 分岐させる\n",
    "    # データストア (Datastore) へのアップロード\n",
    "    datastore = ws.get_default_datastore()\n",
    "    datastore.upload_files(files=['./data/Titanic_train.csv'],\n",
    "                    target_path='data',\n",
    "                    overwrite=True)\n",
    "\n",
    "    # データセット (Dataset) の登録\n",
    "    datastore_paths = [(datastore, './data/Titanic_train.csv')]\n",
    "    # 表形式を選択\n",
    "    dataset = Dataset.Tabular.from_delimited_files(path=datastore_paths)\n",
    "    dataset.register(ws, \"titanic_train\", create_new_version=True)\n",
    "\n",
    "\n",
    "label_column_name = 'Survived'"
   ]
  },
  {
   "cell_type": "code",
   "execution_count": null,
   "metadata": {},
   "outputs": [],
   "source": [
    "# 実験\n",
    "experiment_name = 'classification_titanic'\n",
    "experiment=Experiment(ws, experiment_name)"
   ]
  },
  {
   "cell_type": "code",
   "execution_count": null,
   "metadata": {},
   "outputs": [],
   "source": [
    "# AutoML設定\n",
    "automl_settings = {\n",
    "    \"n_cross_validations\": 3,\n",
    "    \"primary_metric\": 'AUC_weighted',\n",
    "    \"enable_early_stopping\": True,\n",
    "    \"max_concurrent_iterations\": 2, # This is a limit for testing purpose, please increase it as per cluster size\n",
    "    \"experiment_timeout_hours\": 0.25, # This is a time limit for testing purposes, remove it for real use cases, this will drastically limit ablity to find the best model possible\n",
    "    \"verbosity\": logging.INFO,\n",
    "}\n",
    "\n",
    "automl_config = AutoMLConfig(task = 'classification',\n",
    "                             debug_log = 'automl_errors.log',\n",
    "                             compute_target = compute_target,\n",
    "                             training_data = dataset,\n",
    "                             label_column_name = label_column_name,\n",
    "                             **automl_settings\n",
    "                            )"
   ]
  },
  {
   "cell_type": "code",
   "execution_count": null,
   "metadata": {},
   "outputs": [],
   "source": [
    "# 実行\n",
    "remote_run = experiment.submit(automl_config, show_output = False)"
   ]
  },
  {
   "cell_type": "code",
   "execution_count": null,
   "metadata": {},
   "outputs": [],
   "source": [
    "# 実行経過確認\n",
    "from azureml.widgets import RunDetails\n",
    "RunDetails(remote_run).show()"
   ]
  },
  {
   "cell_type": "code",
   "execution_count": null,
   "metadata": {},
   "outputs": [],
   "source": [
    "# 実行終了まで待機\n",
    "remote_run.wait_for_completion(show_output=True)"
   ]
  },
  {
   "cell_type": "markdown",
   "metadata": {},
   "source": [
    "トレーニング環境を`JasmineClient`を用いて取得する。(AutoMLのoutputsはトレーニング環境と異なる場合がある)"
   ]
  },
  {
   "cell_type": "code",
   "execution_count": null,
   "metadata": {},
   "outputs": [],
   "source": [
    "from azureml.train.automl.constants import Scenarios\n",
    "from azureml._restclient.jasmine_client import JasmineClient\n",
    "\n",
    "jasmine_client = JasmineClient(\n",
    "    service_context=experiment.workspace.service_context,\n",
    "    experiment_name=experiment.name,\n",
    "    experiment_id=experiment.id,\n",
    ")\n",
    " \n",
    "training_env = jasmine_client.get_curated_environment(\n",
    "    scenario=Scenarios.AUTOML,\n",
    "    enable_dnn=False,\n",
    "    enable_gpu=False,\n",
    "    compute=compute_target,\n",
    "    compute_sku=compute_target.vm_size\n",
    ")\n",
    "\n",
    "# 抽出したトレーニング環境を .yml としてエクスポートする\n",
    "training_env.save_to_directory('./env', overwrite=True)"
   ]
  }
 ],
 "metadata": {
  "language_info": {
   "name": "python"
  },
  "orig_nbformat": 4
 },
 "nbformat": 4,
 "nbformat_minor": 2
}
